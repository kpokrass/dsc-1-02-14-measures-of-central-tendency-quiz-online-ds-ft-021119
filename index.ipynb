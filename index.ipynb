{
 "cells": [
  {
   "cell_type": "markdown",
   "metadata": {},
   "source": [
    "# Measures of Central Tendency - Quiz\n",
    "\n",
    "## Objectives\n",
    "You will be able to:\n",
    "* Understand and describe the significance of measuring central tendency of continuous data\n",
    "* Understand the formula and intuition behind the mean, median, mode and modal class\n",
    "* Compare mean-median-mode, along with histograms to explain the central tendency of given data"
   ]
  },
  {
   "cell_type": "markdown",
   "metadata": {},
   "source": [
    "**Note, for these exercises, you do not need to write code to answer them - we'll do that later. Just do them by hand or with a calculator to make sure you're comfortable with the process of calculating the answers!**\n",
    "\n",
    "### Exercise 1\n",
    "Calculate the mean, median and mode for this data set: \n",
    "```\n",
    "19, 18, 21, 16, 15, 17, 20, 18\n",
    "```\n",
    "While comparing the results of three measures, comment about this distribution. "
   ]
  },
  {
   "cell_type": "code",
   "execution_count": 6,
   "metadata": {},
   "outputs": [
    {
     "name": "stdout",
     "output_type": "stream",
     "text": [
      "[15, 16, 17, 18, 18, 19, 20, 21]\n",
      "18.0  is the mean.\n",
      "15.5  is the median.\n",
      "18  is the mode.\n"
     ]
    }
   ],
   "source": [
    "num_list = [19,18,21,16,15,17,20,18]\n",
    "num_list.sort()\n",
    "print(num_list)\n",
    "mean = sum(num_list)/len(num_list) # Your answer here \n",
    "print(mean, \" is the mean.\")\n",
    "median = (16 + 15)/2\n",
    "print(median, \" is the median.\")\n",
    "mode = 18\n",
    "print(mode, \" is the mode.\")"
   ]
  },
  {
   "cell_type": "markdown",
   "metadata": {},
   "source": [
    "### Exercise 2\n",
    "\n",
    "Calculate the mean, median and mode for given distribution and state which of these measures does not describe the \"middle\" of this data set? and why ?\n",
    "```\n",
    "100, 99, 97, 97, 96, 98, 95, 72\n",
    "```"
   ]
  },
  {
   "cell_type": "code",
   "execution_count": 10,
   "metadata": {},
   "outputs": [
    {
     "name": "stdout",
     "output_type": "stream",
     "text": [
      "[72, 95, 96, 97, 97, 98, 99, 100]\n",
      "94.25 is the mean.\n",
      "97 is the median.\n",
      "97 is the mode.\n"
     ]
    }
   ],
   "source": [
    "nums = [100, 99, 97, 97, 96, 98, 95, 72]\n",
    "nums.sort()\n",
    "print(nums)\n",
    "mean = sum(nums)/len(nums) # Your answer here \n",
    "print(mean, \"is the mean.\")\n",
    "median = 97\n",
    "print(median, \"is the median.\")\n",
    "mode = 97\n",
    "print(mode, \"is the mode.\")"
   ]
  },
  {
   "cell_type": "markdown",
   "metadata": {},
   "source": [
    "### Exercise 3\n",
    "On the first three days of his bookshop opening, Joe sold 15, 18, and 16 books (He initially hoped that he would sell 17 books every day).  How many books does he need to sell on the next day to have a mean sale of 17?"
   ]
  },
  {
   "cell_type": "code",
   "execution_count": 12,
   "metadata": {},
   "outputs": [
    {
     "name": "stdout",
     "output_type": "stream",
     "text": [
      "16.333333333333332 average books sold through 3 days.\n",
      "Joe would need to sell 19 books on the fourth day to average 17 books a day\n"
     ]
    }
   ],
   "source": [
    "books = [15,16,18] # Your answer here\n",
    "mean1 = sum(books)/len(books)\n",
    "print(mean1, \"average books sold through 3 days.\")\n",
    "print('Joe would need to sell 19 books on the fourth day to average 17 books a day')"
   ]
  },
  {
   "cell_type": "markdown",
   "metadata": {},
   "source": [
    "### Exercise 4\n",
    "The histograms show the amount of time (hours per day) spent on Facebook by 46 middle school girls and 40 middle school boys from a school in San Francisco. A total of 50 boys and 50 girls took the survey, 4 girls and 10 boys did not use Facebook at all. \n",
    "Each is graphed with a bin width of 0.25 hours.\n",
    "\n",
    "![](boys.png)\n",
    "![](girls.png)\n",
    "\n",
    "Looking at these histograms, answer following questions. \n",
    "\n",
    "*Hint: For most parts, you will have to figure out the location of required bins and count the frequencies. *\n",
    "\n",
    "#### How many boys spend more than 1.5 hours/day on Facebook?\n"
   ]
  },
  {
   "cell_type": "code",
   "execution_count": 13,
   "metadata": {},
   "outputs": [
    {
     "data": {
      "text/plain": [
       "'8 boys spend more than 1.5 hours on facebook a day.'"
      ]
     },
     "execution_count": 13,
     "metadata": {},
     "output_type": "execute_result"
    }
   ],
   "source": [
    "\"8 boys spend more than 1.5 hours on facebook a day.\" # Your answer here "
   ]
  },
  {
   "cell_type": "markdown",
   "metadata": {},
   "source": [
    "#### Compare the percentage of boys and girls that spend more than zero but less than 1 hour/day on Facebook."
   ]
  },
  {
   "cell_type": "code",
   "execution_count": 17,
   "metadata": {},
   "outputs": [
    {
     "name": "stdout",
     "output_type": "stream",
     "text": [
      "21.73913043478261 of girls sampled spend up to 1 hour on facebook a day.\n",
      "52.5 of boys sampled spend up to 1 hour on facebook a day.\n"
     ]
    }
   ],
   "source": [
    "perct_girls = (10/46)*(100) # Your answer here \n",
    "print(perct_girls, \"of girls sampled spend up to 1 hour on facebook a day.\")\n",
    "perct_boys = (21/40)*(100)\n",
    "print(perct_boys, \"of boys sampled spend up to 1 hour on facebook a day.\")"
   ]
  },
  {
   "cell_type": "markdown",
   "metadata": {},
   "source": [
    "#### Find the bin where the median of the boys' data set lies."
   ]
  },
  {
   "cell_type": "code",
   "execution_count": 11,
   "metadata": {},
   "outputs": [],
   "source": [
    "'0.75 hours' # Your answer here "
   ]
  },
  {
   "cell_type": "markdown",
   "metadata": {},
   "source": [
    "#### In terms of Facebook usage times based on given data, what can you conclude about usage habits of boys and girls?"
   ]
  },
  {
   "cell_type": "code",
   "execution_count": 19,
   "metadata": {},
   "outputs": [
    {
     "data": {
      "text/plain": [
       "'71.7 percent of girls sampled spend more time on facebook than the most time spent on facebook by boys sampled.'"
      ]
     },
     "execution_count": 19,
     "metadata": {},
     "output_type": "execute_result"
    }
   ],
   "source": [
    "(33/46)*(100)# Your answer here\n",
    "'71.7 percent of girls sampled spend more time on facebook than the most time spent on facebook by boys sampled.'"
   ]
  },
  {
   "cell_type": "code",
   "execution_count": null,
   "metadata": {},
   "outputs": [],
   "source": []
  }
 ],
 "metadata": {
  "kernelspec": {
   "display_name": "learn-env",
   "language": "python",
   "name": "learn-env"
  },
  "language_info": {
   "codemirror_mode": {
    "name": "ipython",
    "version": 3
   },
   "file_extension": ".py",
   "mimetype": "text/x-python",
   "name": "python",
   "nbconvert_exporter": "python",
   "pygments_lexer": "ipython3",
   "version": "3.6.6"
  }
 },
 "nbformat": 4,
 "nbformat_minor": 2
}
